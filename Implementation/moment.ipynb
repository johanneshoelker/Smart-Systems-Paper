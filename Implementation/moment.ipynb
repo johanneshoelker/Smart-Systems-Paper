{
 "cells": [
  {
   "cell_type": "markdown",
   "metadata": {},
   "source": [
    "# Implementation of Moment\n",
    "presented by Goswami et al."
   ]
  },
  {
   "cell_type": "code",
   "execution_count": null,
   "metadata": {},
   "outputs": [],
   "source": [
    "from momentfm import MOMENTPipeline\n",
    "model = MOMENTPipeline.from_pretrained(\n",
    "    \"AutonLab/MOMENT-1-large\",\n",
    "    model_kwargs={\"task_name\": \"reconstruction\"},  # For anomaly detection, we will load MOMENT in `reconstruction` mode\n",
    "    # local_files_only=True,  # Whether or not to only look at local files (i.e., do not try to download the model).\n",
    ")\n",
    "model.init()\n",
    "\n",
    "print(time_series_data[0][1])\n",
    "# Perform anomaly detection using the pre-trained model\n",
    "outputs = model(time_series_data)"
   ]
  },
  {
   "cell_type": "code",
   "execution_count": null,
   "metadata": {},
   "outputs": [],
   "source": []
  }
 ],
 "metadata": {
  "language_info": {
   "name": "python"
  }
 },
 "nbformat": 4,
 "nbformat_minor": 2
}
