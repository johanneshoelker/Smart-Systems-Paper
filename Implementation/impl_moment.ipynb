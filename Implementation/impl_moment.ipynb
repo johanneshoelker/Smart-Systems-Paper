{
 "cells": [
  {
   "metadata": {},
   "cell_type": "markdown",
   "source": [
    "# Implementation of method MOMENT on inverter data\n",
    "presented by Goswami et al.\n"
   ]
  },
  {
   "cell_type": "code",
   "metadata": {
    "ExecuteTime": {
     "end_time": "2024-09-12T15:15:01.647728Z",
     "start_time": "2024-09-12T15:14:56.730565Z"
    }
   },
   "source": [
    "import pandas as pd\n",
    "import numpy as np\n",
    "from datetime import datetime, timedelta\n",
    "import matplotlib.pyplot as plt\n",
    "import torch"
   ],
   "outputs": [],
   "execution_count": 1
  },
  {
   "cell_type": "code",
   "metadata": {
    "ExecuteTime": {
     "end_time": "2024-09-12T15:15:01.719572Z",
     "start_time": "2024-09-12T15:15:01.647728Z"
    }
   },
   "source": [
    "def getSMAData():\n",
    "    path_errors = './errortimestamps.csv'\n",
    "    path_features = './featureslist.csv'\n",
    "    df_errors = pd.read_csv(path_errors)\n",
    "    df_features = pd.read_csv(path_features)\n",
    "    total_features = list(df_features[(df_features['True/False'] == 'TRUE') | (df_features['True/False'] == 'NotAvailable')]['Features'])\n",
    "    tot_feat = pd.read_csv('./totfeat.csv')\n",
    "    tot_feat = list(tot_feat['feat'])\n",
    "    xtrain_dfs = {}\n",
    "    xtest_dfs = {}\n",
    "    ytrain_dfs = {}\n",
    "    ytest_dfs = {}\n",
    "    for inverter in range(19):\n",
    "        inv = 'inv_'+str(inverter)\n",
    "        tot_feat.append('ErrBits')\n",
    "        df_inv_0 = pd.read_csv('./downsampledata/'+str(inverter)+'.csv')\n",
    "        df_inv_0['Timestamp'] = pd.to_datetime(df_inv_0['Timestamp'])\n",
    "        df_inv_0.sort_values(by='Timestamp', inplace=True)\n",
    "        df_inv_0 = df_inv_0.set_index(df_inv_0['Timestamp'])\n",
    "        df_inv_0.shape\n",
    "\n",
    "\n",
    "        format = '%Y-%m-%d %H:%M:%S'\n",
    "        error_date = datetime.strptime(df_errors[(df_errors['Inverter'] == inverter) & (df_errors['had_failure'] == True)]['failure_time'].values[0][0:19], format)\n",
    "        start_date = error_date-timedelta(days= 60)\n",
    "        end_date = error_date+timedelta(days= 1*30)\n",
    "        split_date = error_date-timedelta(days= 1*30)\n",
    "\n",
    "        df_inv_0 = df_inv_0[(df_inv_0.index > start_date) & (df_inv_0.index < end_date)]\n",
    "        df_inv_0 = pd.get_dummies(df_inv_0)\n",
    "\n",
    "        for feat in tot_feat:\n",
    "            if feat not in df_inv_0.columns:\n",
    "                df_inv_0[feat] = 0\n",
    "        df_inv_0 = df_inv_0[tot_feat]\n",
    "        df_inv_0 = df_inv_0.dropna()\n",
    "        df_target = df_inv_0[['ErrBits']]\n",
    "        tot_feat.remove('ErrBits')\n",
    "        df_inv_0 = df_inv_0[tot_feat]\n",
    "\n",
    "        xtrain, xtest = df_inv_0[(df_inv_0.index >= start_date) & (df_inv_0.index< split_date)], df_inv_0[(df_inv_0.index >= split_date) & (df_inv_0.index< end_date)]\n",
    "        ytrain, ytest = df_target[(df_target.index >= start_date) & (df_target.index< split_date)], df_target[(df_target.index >= split_date) & (df_target.index< end_date)]\n",
    "        print(xtrain.shape, xtest.shape)\n",
    "        xtrain_dfs[inv] = xtrain\n",
    "        xtest_dfs[inv] = xtest\n",
    "        ytrain_dfs[inv] = ytrain\n",
    "        ytest_dfs[inv] = ytest\n",
    "    return xtrain_dfs, xtest_dfs, ytrain_dfs, ytest_dfs"
   ],
   "outputs": [],
   "execution_count": 2
  },
  {
   "cell_type": "code",
   "metadata": {
    "ExecuteTime": {
     "end_time": "2024-09-12T15:15:12.265636Z",
     "start_time": "2024-09-12T15:15:01.719572Z"
    }
   },
   "source": [
    "xtrain_dfs, xtest_dfs, ytrain_dfs, ytest_dfs = getSMAData()"
   ],
   "outputs": [
    {
     "name": "stdout",
     "output_type": "stream",
     "text": [
      "(6057, 137) (11645, 137)\n",
      "(6062, 137) (11231, 137)\n",
      "(6180, 137) (11258, 137)\n",
      "(5490, 137) (11139, 137)\n",
      "(5516, 137) (10925, 137)\n",
      "(5980, 137) (12281, 137)\n",
      "(5923, 137) (10865, 137)\n",
      "(6180, 137) (12319, 137)\n",
      "(6180, 137) (8601, 137)\n",
      "(6180, 137) (12146, 137)\n",
      "(6165, 137) (11853, 137)\n",
      "(6176, 137) (11752, 137)\n",
      "(5741, 137) (12236, 137)\n",
      "(6180, 137) (12122, 137)\n",
      "(6159, 137) (12339, 137)\n",
      "(6162, 137) (12333, 137)\n",
      "(6180, 137) (12340, 137)\n",
      "(6180, 137) (12339, 137)\n",
      "(6180, 137) (12310, 137)\n"
     ]
    }
   ],
   "execution_count": 3
  },
  {
   "metadata": {
    "ExecuteTime": {
     "end_time": "2024-09-12T15:15:12.475306Z",
     "start_time": "2024-09-12T15:15:12.265636Z"
    }
   },
   "cell_type": "code",
   "source": [
    "import torch\n",
    "\n",
    "# Assuming xtest_inv_0 is a pandas DataFrame\n",
    "xtest_inv_0 = xtest_dfs['inv_0']\n",
    "channels = [xtest_inv_0[col].tolist() for col in xtest_inv_0.columns]\n",
    "\n",
    "# Convert the list of lists into a tensor\n",
    "tensor = torch.tensor(channels)  # Shape: [n_channels, n_time_points]\n",
    "\n",
    "# Now we want to reshape this tensor into batches of 512 time points\n",
    "window_size = 512\n",
    "n_channels = tensor.shape[0]  # Should be 137\n",
    "n_time_points = tensor.shape[1]  # Should be 11645\n",
    "\n",
    "# How many full windows can we extract?\n",
    "n_batches = n_time_points // window_size  # Floor division to get full batches\n",
    "\n",
    "# Truncate the tensor to the largest number of full batches (if necessary)\n",
    "tensor = tensor[:, :n_batches * window_size]  # Shape: [n_channels, n_batches * 512]\n",
    "\n",
    "# Reshape into [batch_size, n_channels, window_size]\n",
    "tensor = tensor.reshape(n_channels, n_batches, window_size).permute(1, 0, 2)\n",
    "# Shape: [batch_size, n_channels, window_size]\n",
    "\n",
    "print(tensor)  # Should output: [n_batches, 137, 512]\n"
   ],
   "outputs": [
    {
     "name": "stdout",
     "output_type": "stream",
     "text": [
      "tensor([[[786.9214, 837.3190, 855.1500,  ...,   0.0000,   0.0000,   0.0000],\n",
      "         [ 58.7314,  58.5238,  58.3914,  ...,  46.9729,  47.4610,  47.8633],\n",
      "         [ 60.2279,  60.0802,  59.9510,  ...,  47.6507,  48.1593,  48.6002],\n",
      "         ...,\n",
      "         [  0.0000,   0.0000,   0.0000,  ...,   0.0000,   0.0000,   0.0000],\n",
      "         [ 61.1295,  61.1990,  61.0895,  ...,  47.2929,  47.7819,  48.2007],\n",
      "         [ 65.1100,  65.1505,  65.0505,  ...,  48.0190,  48.6012,  49.0200]],\n",
      "\n",
      "        [[  0.0000,   0.0000,   0.0000,  ..., 198.6738, 273.6571, 370.8238],\n",
      "         [ 48.1988,  48.5143,  48.8143,  ...,  48.8845,  51.2983,  59.5193],\n",
      "         [ 48.8731,  49.1490,  49.4086,  ...,  49.9517,  52.5526,  60.9936],\n",
      "         ...,\n",
      "         [  0.0000,   0.0000,   0.0000,  ...,   0.0000,   0.0000,   0.0000],\n",
      "         [ 48.5881,  48.8205,  49.0829,  ...,  49.0157,  51.8619,  60.7955],\n",
      "         [ 49.3014,  49.5729,  49.8476,  ...,  51.2229,  54.1679,  63.6860]],\n",
      "\n",
      "        [[436.1619, 473.3214, 534.7167,  ...,   0.0000,   0.0000,   0.0000],\n",
      "         [ 59.8519,  59.4914,  59.3829,  ...,  35.2155,  35.9948,  36.6690],\n",
      "         [ 61.2890,  60.9057,  60.7467,  ...,  35.7300,  36.5421,  37.2588],\n",
      "         ...,\n",
      "         [  0.0000,   0.0000,   0.0000,  ...,   0.0000,   0.0000,   0.0000],\n",
      "         [ 61.3421,  61.1529,  61.1019,  ...,  35.1843,  36.1507,  36.9838],\n",
      "         [ 64.6498,  64.6574,  64.6310,  ...,  35.7424,  36.7312,  37.5757]],\n",
      "\n",
      "        ...,\n",
      "\n",
      "        [[  0.0000,   0.0000,   0.0000,  ..., 749.1595, 754.0357, 759.4167],\n",
      "         [ 23.2314,  22.9550,  22.6526,  ...,  68.9988,  69.0043,  69.0367],\n",
      "         [ 23.6895,  23.4114,  23.1238,  ...,  70.0431,  69.9962,  69.9762],\n",
      "         ...,\n",
      "         [  0.0000,   0.0000,   0.0000,  ...,   0.0000,   0.0000,   0.0000],\n",
      "         [ 23.4595,  23.2350,  22.9493,  ...,  62.3424,  62.5410,  62.6100],\n",
      "         [ 24.3974,  24.1321,  23.8036,  ...,  65.5962,  65.7852,  65.8657]],\n",
      "\n",
      "        [[764.9857, 767.4119, 773.8071,  ...,   0.0000,   0.0000,   0.0000],\n",
      "         [ 69.1338,  69.0929,  69.1224,  ...,  30.2000,  29.8595,  29.7871],\n",
      "         [ 70.0312,  69.9259,  69.9562,  ...,  30.4986,  30.3012,  30.1343],\n",
      "         ...,\n",
      "         [  0.0000,   0.0000,   0.0000,  ...,   0.0000,   0.0000,   0.0000],\n",
      "         [ 62.8910,  62.9719,  63.0900,  ...,  30.2695,  29.9586,  29.8552],\n",
      "         [ 66.0667,  66.1043,  66.2276,  ...,  31.1914,  30.8536,  30.7614]],\n",
      "\n",
      "        [[  0.0000,   0.0000,   0.0000,  ..., 708.1595, 711.3500, 715.4786],\n",
      "         [ 29.6057,  29.2860,  28.7610,  ...,  73.6743,  73.7250,  73.8893],\n",
      "         [ 29.9612,  29.6824,  29.1021,  ...,  74.9988,  75.0148,  75.0431],\n",
      "         ...,\n",
      "         [  0.0000,   0.0000,   0.0000,  ...,   0.0000,   0.0000,   0.0000],\n",
      "         [ 29.6519,  29.3457,  28.7721,  ...,  66.5324,  66.5462,  66.7431],\n",
      "         [ 30.5012,  30.2152,  29.6214,  ...,  69.6538,  69.7057,  69.8186]]])\n"
     ]
    }
   ],
   "execution_count": 4
  },
  {
   "metadata": {
    "ExecuteTime": {
     "end_time": "2024-09-12T15:15:12.484262Z",
     "start_time": "2024-09-12T15:15:12.475306Z"
    }
   },
   "cell_type": "code",
   "source": [
    "from torch.utils.data import DataLoader, TensorDataset\n",
    "batch_size = 24\n",
    "dataset = TensorDataset(tensor)\n",
    "dataloader = DataLoader(dataset, batch_size=batch_size, shuffle=False)\n",
    "print(dataloader)"
   ],
   "outputs": [
    {
     "name": "stdout",
     "output_type": "stream",
     "text": [
      "<torch.utils.data.dataloader.DataLoader object at 0x0000027DB6331410>\n"
     ]
    }
   ],
   "execution_count": 5
  },
  {
   "metadata": {
    "ExecuteTime": {
     "end_time": "2024-09-12T15:15:26.510467Z",
     "start_time": "2024-09-12T15:15:20.376213Z"
    }
   },
   "cell_type": "code",
   "source": [
    "from momentfm import MOMENTPipeline\n",
    "model = MOMENTPipeline.from_pretrained(\n",
    "    \"AutonLab/MOMENT-1-large\",\n",
    "    model_kwargs={\"task_name\": \"reconstruction\"},  # For anomaly detection, we will load MOMENT in `reconstruction` mode\n",
    "    # local_files_only=True,  # Whether or not to only look at local files (i.e., do not try to download the model).\n",
    ")\n",
    "model.init()"
   ],
   "outputs": [],
   "execution_count": 6
  },
  {
   "metadata": {
    "ExecuteTime": {
     "end_time": "2024-09-12T15:24:42.410596Z",
     "start_time": "2024-09-12T15:15:26.510467Z"
    }
   },
   "cell_type": "code",
   "source": "output = model(tensor)",
   "outputs": [
    {
     "name": "stderr",
     "output_type": "stream",
     "text": [
      "C:\\Users\\HOELKER\\.virtualenvs\\moment-main\\Lib\\site-packages\\torch\\utils\\checkpoint.py:31: UserWarning: None of the inputs have requires_grad=True. Gradients will be None\n",
      "  warnings.warn(\"None of the inputs have requires_grad=True. Gradients will be None\")\n"
     ]
    }
   ],
   "execution_count": 7
  },
  {
   "metadata": {
    "ExecuteTime": {
     "end_time": "2024-09-12T15:24:42.480888Z",
     "start_time": "2024-09-12T15:24:42.421639Z"
    }
   },
   "cell_type": "code",
   "source": "print(output)",
   "outputs": [
    {
     "name": "stdout",
     "output_type": "stream",
     "text": [
      "TimeseriesOutputs(forecast=None, anomaly_scores=None, logits=None, labels=None, input_mask=tensor([[1., 1., 1.,  ..., 1., 1., 1.],\n",
      "        [1., 1., 1.,  ..., 1., 1., 1.],\n",
      "        [1., 1., 1.,  ..., 1., 1., 1.],\n",
      "        ...,\n",
      "        [1., 1., 1.,  ..., 1., 1., 1.],\n",
      "        [1., 1., 1.,  ..., 1., 1., 1.],\n",
      "        [1., 1., 1.,  ..., 1., 1., 1.]]), pretrain_mask=tensor([[1, 1, 1,  ..., 1, 1, 1],\n",
      "        [1, 1, 1,  ..., 1, 1, 1],\n",
      "        [1, 1, 1,  ..., 1, 1, 1],\n",
      "        ...,\n",
      "        [1, 1, 1,  ..., 1, 1, 1],\n",
      "        [1, 1, 1,  ..., 1, 1, 1],\n",
      "        [1, 1, 1,  ..., 1, 1, 1]]), reconstruction=tensor([[[ 6.7487e+02,  6.8271e+02,  6.7603e+02,  ...,  1.3395e+02,\n",
      "           1.3205e+02,  1.0960e+02],\n",
      "         [ 5.4652e+01,  5.4380e+01,  5.4033e+01,  ...,  4.6425e+01,\n",
      "           4.5658e+01,  4.5141e+01],\n",
      "         [ 5.8120e+01,  5.7991e+01,  5.7436e+01,  ...,  4.4308e+01,\n",
      "           4.5122e+01,  4.5001e+01],\n",
      "         ...,\n",
      "         [ 5.5140e-07,  8.4498e-08,  2.1061e-06,  ...,  1.1250e-06,\n",
      "          -1.0150e-06,  4.1071e-07],\n",
      "         [ 6.0400e+01,  5.9953e+01,  5.9214e+01,  ...,  4.3616e+01,\n",
      "           4.4921e+01,  4.5038e+01],\n",
      "         [ 6.2364e+01,  6.2005e+01,  6.1735e+01,  ...,  4.6187e+01,\n",
      "           4.6406e+01,  4.6873e+01]],\n",
      "\n",
      "        [[ 7.9728e+01,  6.4882e+01,  5.4065e+01,  ...,  2.8220e+02,\n",
      "           3.7692e+02,  4.5402e+02],\n",
      "         [ 5.2809e+01,  5.2239e+01,  5.1494e+01,  ...,  4.6287e+01,\n",
      "           4.8347e+01,  4.9710e+01],\n",
      "         [ 5.3740e+01,  5.3353e+01,  5.2483e+01,  ...,  3.7537e+01,\n",
      "           3.8168e+01,  4.0493e+01],\n",
      "         ...,\n",
      "         [ 7.2051e-07, -7.2326e-07,  5.4143e-07,  ..., -8.4351e-08,\n",
      "           9.7885e-07,  5.2137e-07],\n",
      "         [ 5.1905e+01,  5.1653e+01,  5.1320e+01,  ...,  4.5913e+01,\n",
      "           4.8102e+01,  5.0077e+01],\n",
      "         [ 5.5842e+01,  5.5612e+01,  5.4108e+01,  ...,  5.5319e+01,\n",
      "           5.8090e+01,  5.9567e+01]],\n",
      "\n",
      "        [[ 4.9879e+02,  4.9501e+02,  5.1083e+02,  ...,  1.3037e+02,\n",
      "           1.3379e+02,  1.2867e+02],\n",
      "         [ 4.7827e+01,  4.8449e+01,  4.8349e+01,  ...,  4.0081e+01,\n",
      "           3.8652e+01,  3.8523e+01],\n",
      "         [ 5.6113e+01,  5.5658e+01,  5.5727e+01,  ...,  4.7179e+01,\n",
      "           4.5041e+01,  4.3267e+01],\n",
      "         ...,\n",
      "         [ 5.9604e-07, -1.0927e-06,  7.1796e-07,  ..., -1.0504e-06,\n",
      "           1.0488e-07, -1.1908e-06],\n",
      "         [ 5.2554e+01,  5.1746e+01,  5.1547e+01,  ...,  4.4749e+01,\n",
      "           4.4930e+01,  4.3780e+01],\n",
      "         [ 5.5476e+01,  5.5220e+01,  5.4370e+01,  ...,  4.2332e+01,\n",
      "           4.0026e+01,  3.9970e+01]],\n",
      "\n",
      "        ...,\n",
      "\n",
      "        [[ 1.2043e+02,  1.2830e+02,  1.1166e+02,  ...,  6.9352e+02,\n",
      "           6.4658e+02,  6.2753e+02],\n",
      "         [ 3.2383e+01,  3.3319e+01,  3.1849e+01,  ...,  6.2283e+01,\n",
      "           6.1958e+01,  6.2140e+01],\n",
      "         [ 3.4469e+01,  3.4943e+01,  3.4479e+01,  ...,  6.0637e+01,\n",
      "           5.9630e+01,  6.0361e+01],\n",
      "         ...,\n",
      "         [ 3.5427e-07, -1.4238e-06,  3.1492e-06,  ...,  5.1921e-06,\n",
      "           7.4737e-07, -2.3544e-06],\n",
      "         [ 3.1295e+01,  3.1366e+01,  3.1095e+01,  ...,  5.2095e+01,\n",
      "           5.1888e+01,  5.1821e+01],\n",
      "         [ 3.2338e+01,  3.2030e+01,  3.1285e+01,  ...,  5.8409e+01,\n",
      "           5.7301e+01,  5.7424e+01]],\n",
      "\n",
      "        [[ 6.3196e+02,  6.4554e+02,  6.5919e+02,  ...,  6.2590e+01,\n",
      "           2.2459e+01,  1.9648e+00],\n",
      "         [ 6.1680e+01,  6.2925e+01,  6.0663e+01,  ...,  3.3020e+01,\n",
      "           3.1868e+01,  3.1961e+01],\n",
      "         [ 5.9758e+01,  6.0249e+01,  5.9158e+01,  ...,  3.6186e+01,\n",
      "           3.5352e+01,  3.5828e+01],\n",
      "         ...,\n",
      "         [ 9.5717e-07, -1.4979e-06,  2.2955e-06,  ..., -3.6523e-06,\n",
      "           1.0308e-06,  9.4429e-07],\n",
      "         [ 5.5060e+01,  5.5948e+01,  5.6239e+01,  ...,  3.2910e+01,\n",
      "           3.2171e+01,  3.1298e+01],\n",
      "         [ 5.3365e+01,  5.3048e+01,  5.2101e+01,  ...,  3.4735e+01,\n",
      "           3.3140e+01,  3.2553e+01]],\n",
      "\n",
      "        [[ 1.1611e+02,  1.0482e+02,  9.5843e+01,  ...,  6.3742e+02,\n",
      "           6.1954e+02,  6.3186e+02],\n",
      "         [ 3.5195e+01,  3.6183e+01,  3.4314e+01,  ...,  6.3938e+01,\n",
      "           6.2899e+01,  6.3278e+01],\n",
      "         [ 3.5828e+01,  3.6487e+01,  3.5674e+01,  ...,  6.1388e+01,\n",
      "           6.0850e+01,  6.1607e+01],\n",
      "         ...,\n",
      "         [-2.9984e-07, -2.1507e-06,  3.0862e-06,  ..., -1.6168e-06,\n",
      "           2.0786e-06, -5.0503e-07],\n",
      "         [ 3.2187e+01,  3.1936e+01,  3.0178e+01,  ...,  5.7782e+01,\n",
      "           5.6013e+01,  5.8642e+01],\n",
      "         [ 3.5723e+01,  3.6452e+01,  3.5395e+01,  ...,  6.0293e+01,\n",
      "           5.9600e+01,  6.0729e+01]]], grad_fn=<AddBackward0>), embeddings=None, metadata=None, illegal_output=None)\n"
     ]
    }
   ],
   "execution_count": 8
  },
  {
   "metadata": {
    "ExecuteTime": {
     "end_time": "2024-09-12T15:24:42.508411Z",
     "start_time": "2024-09-12T15:24:42.484919Z"
    }
   },
   "cell_type": "code",
   "source": [
    "output_rec = output.reconstruction\n",
    "anomaly_scores = (output_rec - tensor) ** 2\n",
    "anomaly_scores"
   ],
   "outputs": [
    {
     "data": {
      "text/plain": [
       "tensor([[[1.2556e+04, 2.3905e+04, 3.2084e+04,  ..., 1.7943e+04,\n",
       "          1.7436e+04, 1.2012e+04],\n",
       "         [1.6644e+01, 1.7173e+01, 1.8994e+01,  ..., 3.0050e-01,\n",
       "          3.2520e+00, 7.4115e+00],\n",
       "         [4.4431e+00, 4.3653e+00, 6.3271e+00,  ..., 1.1172e+01,\n",
       "          9.2277e+00, 1.2953e+01],\n",
       "         ...,\n",
       "         [3.0404e-13, 7.1399e-15, 4.4359e-12,  ..., 1.2657e-12,\n",
       "          1.0303e-12, 1.6868e-13],\n",
       "         [5.3253e-01, 1.5531e+00, 3.5194e+00,  ..., 1.3517e+01,\n",
       "          8.1826e+00, 1.0002e+01],\n",
       "         [7.5397e+00, 9.8933e+00, 1.0990e+01,  ..., 3.3567e+00,\n",
       "          4.8188e+00, 4.6093e+00]],\n",
       "\n",
       "        [[6.3566e+03, 4.2096e+03, 2.9231e+03,  ..., 6.9767e+03,\n",
       "          1.0664e+04, 6.9224e+03],\n",
       "         [2.1253e+01, 1.3873e+01, 7.1783e+00,  ..., 6.7486e+00,\n",
       "          8.7097e+00, 9.6224e+01],\n",
       "         [2.3683e+01, 1.7672e+01, 9.4523e+00,  ..., 1.5413e+02,\n",
       "          2.0690e+02, 4.2029e+02],\n",
       "         ...,\n",
       "         [5.1913e-13, 5.2310e-13, 2.9314e-13,  ..., 7.1151e-15,\n",
       "          9.5814e-13, 2.7183e-13],\n",
       "         [1.1005e+01, 8.0251e+00, 5.0033e+00,  ..., 9.6276e+00,\n",
       "          1.4140e+01, 1.1488e+02],\n",
       "         [4.2782e+01, 3.6473e+01, 1.8151e+01,  ..., 1.6781e+01,\n",
       "          1.5386e+01, 1.6969e+01]],\n",
       "\n",
       "        [[3.9221e+03, 4.7054e+02, 5.7079e+02,  ..., 1.6996e+04,\n",
       "          1.7899e+04, 1.6557e+04],\n",
       "         [1.4460e+02, 1.2193e+02, 1.2174e+02,  ..., 2.3676e+01,\n",
       "          7.0598e+00, 3.4372e+00],\n",
       "         [2.6796e+01, 2.7534e+01, 2.5194e+01,  ..., 1.3108e+02,\n",
       "          7.2226e+01, 3.6094e+01],\n",
       "         ...,\n",
       "         [3.5527e-13, 1.1939e-12, 5.1547e-13,  ..., 1.1034e-12,\n",
       "          1.1000e-14, 1.4179e-12],\n",
       "         [7.7237e+01, 8.8497e+01, 9.1296e+01,  ..., 9.1481e+01,\n",
       "          7.7073e+01, 4.6195e+01],\n",
       "         [8.4149e+01, 8.9058e+01, 1.0530e+02,  ..., 4.3422e+01,\n",
       "          1.0859e+01, 5.7323e+00]],\n",
       "\n",
       "        ...,\n",
       "\n",
       "        [[1.4502e+04, 1.6461e+04, 1.2468e+04,  ..., 3.0954e+03,\n",
       "          1.1547e+04, 1.7394e+04],\n",
       "         [8.3760e+01, 1.0741e+02, 8.4578e+01,  ..., 4.5102e+01,\n",
       "          4.9656e+01, 4.7571e+01],\n",
       "         [1.1619e+02, 1.3298e+02, 1.2895e+02,  ..., 8.8480e+01,\n",
       "          1.0746e+02, 9.2454e+01],\n",
       "         ...,\n",
       "         [1.2551e-13, 2.0271e-12, 9.9177e-12,  ..., 2.6958e-11,\n",
       "          5.5856e-13, 5.5432e-12],\n",
       "         [6.1396e+01, 6.6118e+01, 6.6348e+01,  ..., 1.0502e+02,\n",
       "          1.1348e+02, 1.1640e+02],\n",
       "         [6.3053e+01, 6.2368e+01, 5.5970e+01,  ..., 5.1658e+01,\n",
       "          7.1982e+01, 7.1266e+01]],\n",
       "\n",
       "        [[1.7695e+04, 1.4853e+04, 1.3137e+04,  ..., 3.9175e+03,\n",
       "          5.0439e+02, 3.8603e+00],\n",
       "         [5.5566e+01, 3.8037e+01, 7.1564e+01,  ..., 7.9498e+00,\n",
       "          4.0331e+00, 4.7275e+00],\n",
       "         [1.0555e+02, 9.3639e+01, 1.1661e+02,  ..., 3.2345e+01,\n",
       "          2.5508e+01, 3.2421e+01],\n",
       "         ...,\n",
       "         [9.1617e-13, 2.2437e-12, 5.2694e-12,  ..., 1.3339e-11,\n",
       "          1.0625e-12, 8.9168e-13],\n",
       "         [6.1323e+01, 4.9332e+01, 4.6942e+01,  ..., 6.9729e+00,\n",
       "          4.8936e+00, 2.0825e+00],\n",
       "         [1.6132e+02, 1.7047e+02, 1.9955e+02,  ..., 1.2558e+01,\n",
       "          5.2279e+00, 3.2111e+00]],\n",
       "\n",
       "        [[1.3481e+04, 1.0987e+04, 9.1859e+03,  ..., 5.0043e+03,\n",
       "          8.4297e+03, 6.9928e+03],\n",
       "         [3.1238e+01, 4.7568e+01, 3.0835e+01,  ..., 9.4802e+01,\n",
       "          1.1720e+02, 1.1260e+02],\n",
       "         [3.4418e+01, 4.6306e+01, 4.3186e+01,  ..., 1.8525e+02,\n",
       "          2.0065e+02, 1.8054e+02],\n",
       "         ...,\n",
       "         [8.9903e-14, 4.6254e-12, 9.5249e-12,  ..., 2.6141e-12,\n",
       "          4.3207e-12, 2.5506e-13],\n",
       "         [6.4242e+00, 6.7093e+00, 1.9760e+00,  ..., 7.6562e+01,\n",
       "          1.1095e+02, 6.5633e+01],\n",
       "         [2.7266e+01, 3.8896e+01, 3.3333e+01,  ..., 8.7632e+01,\n",
       "          1.0212e+02, 8.2618e+01]]], grad_fn=<PowBackward0>)"
      ]
     },
     "execution_count": 9,
     "metadata": {},
     "output_type": "execute_result"
    }
   ],
   "execution_count": 9
  },
  {
   "metadata": {
    "ExecuteTime": {
     "end_time": "2024-09-13T06:06:26.113993Z",
     "start_time": "2024-09-13T06:06:26.085239Z"
    }
   },
   "cell_type": "code",
   "source": [
    "# Min-Max-Normalisierung zwischen 0 und 1\n",
    "min_val = tensor.min()\n",
    "max_val = tensor.max()\n",
    "\n",
    "row_to_exclude = 22\n",
    "\n",
    "# Exclude the row using slicing\n",
    "# We will concatenate slices excluding the specified row\n",
    "tensor_excluded = torch.cat((tensor[:, :row_to_exclude, :], tensor[:, row_to_exclude + 1:, :]), dim=1)\n",
    "\n",
    "# Normierter Tensor\n",
    "tensor_normalized = (tensor_excluded - min_val) / (max_val - min_val)\n",
    "\n",
    "\n",
    "\n",
    "print(tensor_normalized)"
   ],
   "outputs": [
    {
     "name": "stdout",
     "output_type": "stream",
     "text": [
      "tensor([[[4.8821e-06, 5.1324e-06, 5.2209e-06,  ..., 9.7338e-07,\n",
      "          9.7338e-07, 9.7338e-07],\n",
      "         [1.2651e-06, 1.2641e-06, 1.2634e-06,  ..., 1.2067e-06,\n",
      "          1.2091e-06, 1.2111e-06],\n",
      "         [1.2725e-06, 1.2718e-06, 1.2712e-06,  ..., 1.2101e-06,\n",
      "          1.2126e-06, 1.2148e-06],\n",
      "         ...,\n",
      "         [9.7338e-07, 9.7338e-07, 9.7338e-07,  ..., 9.7338e-07,\n",
      "          9.7338e-07, 9.7338e-07],\n",
      "         [1.2770e-06, 1.2774e-06, 1.2768e-06,  ..., 1.2083e-06,\n",
      "          1.2107e-06, 1.2128e-06],\n",
      "         [1.2968e-06, 1.2970e-06, 1.2965e-06,  ..., 1.2119e-06,\n",
      "          1.2148e-06, 1.2169e-06]],\n",
      "\n",
      "        [[9.7338e-07, 9.7338e-07, 9.7338e-07,  ..., 1.9602e-06,\n",
      "          2.3326e-06, 2.8153e-06],\n",
      "         [1.2128e-06, 1.2143e-06, 1.2158e-06,  ..., 1.2162e-06,\n",
      "          1.2282e-06, 1.2690e-06],\n",
      "         [1.2161e-06, 1.2175e-06, 1.2188e-06,  ..., 1.2215e-06,\n",
      "          1.2344e-06, 1.2763e-06],\n",
      "         ...,\n",
      "         [9.7338e-07, 9.7338e-07, 9.7338e-07,  ..., 9.7338e-07,\n",
      "          9.7338e-07, 9.7338e-07],\n",
      "         [1.2147e-06, 1.2159e-06, 1.2172e-06,  ..., 1.2168e-06,\n",
      "          1.2310e-06, 1.2754e-06],\n",
      "         [1.2183e-06, 1.2196e-06, 1.2210e-06,  ..., 1.2278e-06,\n",
      "          1.2424e-06, 1.2897e-06]],\n",
      "\n",
      "        [[3.1398e-06, 3.3244e-06, 3.6293e-06,  ..., 9.7338e-07,\n",
      "          9.7338e-07, 9.7338e-07],\n",
      "         [1.2707e-06, 1.2689e-06, 1.2683e-06,  ..., 1.1483e-06,\n",
      "          1.1522e-06, 1.1555e-06],\n",
      "         [1.2778e-06, 1.2759e-06, 1.2751e-06,  ..., 1.1508e-06,\n",
      "          1.1549e-06, 1.1584e-06],\n",
      "         ...,\n",
      "         [9.7338e-07, 9.7338e-07, 9.7338e-07,  ..., 9.7338e-07,\n",
      "          9.7338e-07, 9.7338e-07],\n",
      "         [1.2781e-06, 1.2771e-06, 1.2769e-06,  ..., 1.1481e-06,\n",
      "          1.1529e-06, 1.1571e-06],\n",
      "         [1.2945e-06, 1.2945e-06, 1.2944e-06,  ..., 1.1509e-06,\n",
      "          1.1558e-06, 1.1600e-06]],\n",
      "\n",
      "        ...,\n",
      "\n",
      "        [[9.7338e-07, 9.7338e-07, 9.7338e-07,  ..., 4.6945e-06,\n",
      "          4.7187e-06, 4.7454e-06],\n",
      "         [1.0888e-06, 1.0874e-06, 1.0859e-06,  ..., 1.3161e-06,\n",
      "          1.3161e-06, 1.3163e-06],\n",
      "         [1.0910e-06, 1.0897e-06, 1.0882e-06,  ..., 1.3213e-06,\n",
      "          1.3211e-06, 1.3210e-06],\n",
      "         ...,\n",
      "         [9.7338e-07, 9.7338e-07, 9.7338e-07,  ..., 9.7338e-07,\n",
      "          9.7338e-07, 9.7338e-07],\n",
      "         [1.0899e-06, 1.0888e-06, 1.0874e-06,  ..., 1.2830e-06,\n",
      "          1.2840e-06, 1.2844e-06],\n",
      "         [1.0946e-06, 1.0932e-06, 1.0916e-06,  ..., 1.2992e-06,\n",
      "          1.3001e-06, 1.3005e-06]],\n",
      "\n",
      "        [[4.7731e-06, 4.7851e-06, 4.8169e-06,  ..., 9.7338e-07,\n",
      "          9.7338e-07, 9.7338e-07],\n",
      "         [1.3168e-06, 1.3166e-06, 1.3167e-06,  ..., 1.1234e-06,\n",
      "          1.1217e-06, 1.1213e-06],\n",
      "         [1.3212e-06, 1.3207e-06, 1.3209e-06,  ..., 1.1249e-06,\n",
      "          1.1239e-06, 1.1231e-06],\n",
      "         ...,\n",
      "         [9.7338e-07, 9.7338e-07, 9.7338e-07,  ..., 9.7338e-07,\n",
      "          9.7338e-07, 9.7338e-07],\n",
      "         [1.2858e-06, 1.2862e-06, 1.2867e-06,  ..., 1.1237e-06,\n",
      "          1.1222e-06, 1.1217e-06],\n",
      "         [1.3015e-06, 1.3017e-06, 1.3023e-06,  ..., 1.1283e-06,\n",
      "          1.1266e-06, 1.1262e-06]],\n",
      "\n",
      "        [[9.7338e-07, 9.7338e-07, 9.7338e-07,  ..., 4.4908e-06,\n",
      "          4.5067e-06, 4.5272e-06],\n",
      "         [1.1204e-06, 1.1188e-06, 1.1162e-06,  ..., 1.3393e-06,\n",
      "          1.3396e-06, 1.3404e-06],\n",
      "         [1.1222e-06, 1.1208e-06, 1.1179e-06,  ..., 1.3459e-06,\n",
      "          1.3460e-06, 1.3461e-06],\n",
      "         ...,\n",
      "         [9.7338e-07, 9.7338e-07, 9.7338e-07,  ..., 9.7338e-07,\n",
      "          9.7338e-07, 9.7338e-07],\n",
      "         [1.1207e-06, 1.1191e-06, 1.1163e-06,  ..., 1.3038e-06,\n",
      "          1.3039e-06, 1.3049e-06],\n",
      "         [1.1249e-06, 1.1235e-06, 1.1205e-06,  ..., 1.3193e-06,\n",
      "          1.3196e-06, 1.3202e-06]]])\n"
     ]
    }
   ],
   "execution_count": 34
  },
  {
   "metadata": {
    "ExecuteTime": {
     "end_time": "2024-09-14T08:51:26.333584Z",
     "start_time": "2024-09-14T08:51:26.289655Z"
    }
   },
   "cell_type": "code",
   "source": [
    "mask = tensor_normalized > 0.1\n",
    "mask"
   ],
   "outputs": [
    {
     "data": {
      "text/plain": [
       "tensor([[[False, False, False,  ..., False, False, False],\n",
       "         [False, False, False,  ..., False, False, False],\n",
       "         [False, False, False,  ..., False, False, False],\n",
       "         ...,\n",
       "         [False, False, False,  ..., False, False, False],\n",
       "         [False, False, False,  ..., False, False, False],\n",
       "         [False, False, False,  ..., False, False, False]],\n",
       "\n",
       "        [[False, False, False,  ..., False, False, False],\n",
       "         [False, False, False,  ..., False, False, False],\n",
       "         [False, False, False,  ..., False, False, False],\n",
       "         ...,\n",
       "         [False, False, False,  ..., False, False, False],\n",
       "         [False, False, False,  ..., False, False, False],\n",
       "         [False, False, False,  ..., False, False, False]],\n",
       "\n",
       "        [[False, False, False,  ..., False, False, False],\n",
       "         [False, False, False,  ..., False, False, False],\n",
       "         [False, False, False,  ..., False, False, False],\n",
       "         ...,\n",
       "         [False, False, False,  ..., False, False, False],\n",
       "         [False, False, False,  ..., False, False, False],\n",
       "         [False, False, False,  ..., False, False, False]],\n",
       "\n",
       "        ...,\n",
       "\n",
       "        [[False, False, False,  ..., False, False, False],\n",
       "         [False, False, False,  ..., False, False, False],\n",
       "         [False, False, False,  ..., False, False, False],\n",
       "         ...,\n",
       "         [False, False, False,  ..., False, False, False],\n",
       "         [False, False, False,  ..., False, False, False],\n",
       "         [False, False, False,  ..., False, False, False]],\n",
       "\n",
       "        [[False, False, False,  ..., False, False, False],\n",
       "         [False, False, False,  ..., False, False, False],\n",
       "         [False, False, False,  ..., False, False, False],\n",
       "         ...,\n",
       "         [False, False, False,  ..., False, False, False],\n",
       "         [False, False, False,  ..., False, False, False],\n",
       "         [False, False, False,  ..., False, False, False]],\n",
       "\n",
       "        [[False, False, False,  ..., False, False, False],\n",
       "         [False, False, False,  ..., False, False, False],\n",
       "         [False, False, False,  ..., False, False, False],\n",
       "         ...,\n",
       "         [False, False, False,  ..., False, False, False],\n",
       "         [False, False, False,  ..., False, False, False],\n",
       "         [False, False, False,  ..., False, False, False]]])"
      ]
     },
     "execution_count": 71,
     "metadata": {},
     "output_type": "execute_result"
    }
   ],
   "execution_count": 71
  },
  {
   "metadata": {
    "ExecuteTime": {
     "end_time": "2024-09-14T08:51:27.282904Z",
     "start_time": "2024-09-14T08:51:27.272816Z"
    }
   },
   "cell_type": "code",
   "source": [
    "values_above_threshold = tensor_normalized[mask]\n",
    "\n",
    "# Print the values that exceed the threshold\n",
    "print(\"Values greater than the threshold:\")\n",
    "print(values_above_threshold)\n",
    "\n",
    "# To print the indices as well, you can use .nonzero()\n",
    "indices_above_threshold = mask.nonzero(as_tuple=False)\n",
    "\n",
    "\n",
    "print(\"\\nIndices of values greater than the threshold:\")\n",
    "print(indices_above_threshold)\n",
    "\n",
    "# You can iterate over the indices and print the values with their positions\n",
    "for idx in indices_above_threshold:\n",
    "    print(f\"Value: {tensor[tuple(idx)]}, Index: {tuple(idx)}\")"
   ],
   "outputs": [
    {
     "name": "stdout",
     "output_type": "stream",
     "text": [
      "Values greater than the threshold:\n",
      "tensor([])\n",
      "\n",
      "Indices of values greater than the threshold:\n",
      "tensor([], size=(0, 3), dtype=torch.int64)\n"
     ]
    }
   ],
   "execution_count": 72
  }
 ],
 "metadata": {
  "kernelspec": {
   "display_name": "e2ml-env",
   "language": "python",
   "name": "python3"
  },
  "language_info": {
   "codemirror_mode": {
    "name": "ipython",
    "version": 3
   },
   "file_extension": ".py",
   "mimetype": "text/x-python",
   "name": "python",
   "nbconvert_exporter": "python",
   "pygments_lexer": "ipython3",
   "version": "3.9.16"
  }
 },
 "nbformat": 4,
 "nbformat_minor": 2
}
